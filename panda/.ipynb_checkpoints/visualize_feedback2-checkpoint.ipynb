{
 "cells": [
  {
   "cell_type": "code",
   "execution_count": 2,
   "metadata": {
    "collapsed": true
   },
   "outputs": [],
   "source": [
    "import pandas as pd\n",
    "import numpy as np\n",
    "import matplotlib.pyplot as plt"
   ]
  },
  {
   "cell_type": "code",
   "execution_count": 106,
   "metadata": {
    "scrolled": true
   },
   "outputs": [],
   "source": [
    "# Load csv file\n",
    "df = pd.read_csv('data2/feedback.csv')\n",
    "# Add index column\n",
    "df.reset_index(inplace=True)\n",
    "# Rename columns\n",
    "df.columns = 'feedback_id user_id outfit_id style_category_id weather_category_id feedback_category_id'.split()\n",
    "#df.transpose()"
   ]
  },
  {
   "cell_type": "markdown",
   "metadata": {},
   "source": [
    "## Actual feedback"
   ]
  },
  {
   "cell_type": "code",
   "execution_count": 112,
   "metadata": {},
   "outputs": [
    {
     "data": {
      "text/html": [
       "<div>\n",
       "<style scoped>\n",
       "    .dataframe tbody tr th:only-of-type {\n",
       "        vertical-align: middle;\n",
       "    }\n",
       "\n",
       "    .dataframe tbody tr th {\n",
       "        vertical-align: top;\n",
       "    }\n",
       "\n",
       "    .dataframe thead th {\n",
       "        text-align: right;\n",
       "    }\n",
       "</style>\n",
       "<table border=\"1\" class=\"dataframe\">\n",
       "  <thead>\n",
       "    <tr style=\"text-align: right;\">\n",
       "      <th></th>\n",
       "      <th>feedback_category_id</th>\n",
       "      <th>feedback_category_name</th>\n",
       "    </tr>\n",
       "  </thead>\n",
       "  <tbody>\n",
       "    <tr>\n",
       "      <th>0</th>\n",
       "      <td>2</td>\n",
       "      <td>Don't like</td>\n",
       "    </tr>\n",
       "    <tr>\n",
       "      <th>1</th>\n",
       "      <td>3</td>\n",
       "      <td>Like</td>\n",
       "    </tr>\n",
       "    <tr>\n",
       "      <th>2</th>\n",
       "      <td>4</td>\n",
       "      <td>Wore it</td>\n",
       "    </tr>\n",
       "  </tbody>\n",
       "</table>\n",
       "</div>"
      ],
      "text/plain": [
       "   feedback_category_id feedback_category_name\n",
       "0                     2             Don't like\n",
       "1                     3                   Like\n",
       "2                     4                Wore it"
      ]
     },
     "execution_count": 112,
     "metadata": {},
     "output_type": "execute_result"
    }
   ],
   "source": [
    "# Feedback dictionary\n",
    "feedback = {\n",
    "    2: \"Don't like\",\n",
    "    3: \"Like\",\n",
    "    4: \"Wore it\"\n",
    "}\n",
    "\n",
    "# Feedback category dictionary \n",
    "df_feedcat = pd.DataFrame(feedback, index=['feedback_category_name']).transpose()\n",
    "# Add index column\n",
    "df_feedcat.reset_index(inplace=True)\n",
    "df_feedcat.columns = 'feedback_category_id feedback_category_name'.split()\n",
    "df_feedcat"
   ]
  },
  {
   "cell_type": "code",
   "execution_count": 146,
   "metadata": {},
   "outputs": [
    {
     "data": {
      "text/html": [
       "<div>\n",
       "<style scoped>\n",
       "    .dataframe tbody tr th:only-of-type {\n",
       "        vertical-align: middle;\n",
       "    }\n",
       "\n",
       "    .dataframe tbody tr th {\n",
       "        vertical-align: top;\n",
       "    }\n",
       "\n",
       "    .dataframe thead th {\n",
       "        text-align: right;\n",
       "    }\n",
       "</style>\n",
       "<table border=\"1\" class=\"dataframe\">\n",
       "  <thead>\n",
       "    <tr style=\"text-align: right;\">\n",
       "      <th></th>\n",
       "      <th>feedback_id</th>\n",
       "      <th>feedback_category_id</th>\n",
       "    </tr>\n",
       "  </thead>\n",
       "  <tbody>\n",
       "    <tr>\n",
       "      <th>-1</th>\n",
       "      <td>-1</td>\n",
       "      <td>-1</td>\n",
       "    </tr>\n",
       "  </tbody>\n",
       "</table>\n",
       "</div>"
      ],
      "text/plain": [
       "    feedback_id  feedback_category_id\n",
       "-1           -1                    -1"
      ]
     },
     "execution_count": 146,
     "metadata": {},
     "output_type": "execute_result"
    }
   ],
   "source": [
    "tmpdf = pd.DataFrame(data=[[-1, -1]], index = [-1], columns=['feedback_id','feedback_category_id'])\n",
    "tmpdf"
   ]
  },
  {
   "cell_type": "code",
   "execution_count": 156,
   "metadata": {},
   "outputs": [
    {
     "data": {
      "image/png": "[encoded data removed]",
      "text/plain": [
       "<matplotlib.figure.Figure at 0x7fe0e223a080>"
      ]
     },
     "metadata": {},
     "output_type": "display_data"
    }
   ],
   "source": [
    "# Simple \"feedback\" plot\n",
    "df_indf = df[['feedback_id','feedback_category_id']]\n",
    "#for i in range(1000):\n",
    "#    df_indf = df_indf.append(tmpdf)\n",
    "#df_indf.transpose()\n",
    "\n",
    "# Left outer join.\n",
    "df_merged =pd.merge(df_indf,df_feedcat,how='left',on='feedback_category_id')\n",
    "df_merged.transpose()\n",
    "\n",
    "df_merged['feedback_category_name'].fillna('Unknown').value_counts().plot.pie()\n",
    "plt.show()"
   ]
  },
  {
   "cell_type": "code",
   "execution_count": 159,
   "metadata": {},
   "outputs": [
    {
     "data": {
      "image/png": "[encoded data removed]",
      "text/plain": [
       "<matplotlib.figure.Figure at 0x7fe0e199c7b8>"
      ]
     },
     "metadata": {},
     "output_type": "display_data"
    }
   ],
   "source": [
    "# \"Original\" data\n",
    "df['feedback_category_id'].value_counts().plot.pie()\n",
    "plt.show()"
   ]
  },
  {
   "cell_type": "markdown",
   "metadata": {},
   "source": [
    "## Style"
   ]
  },
  {
   "cell_type": "code",
   "execution_count": 157,
   "metadata": {},
   "outputs": [
    {
     "data": {
      "text/html": [
       "<div>\n",
       "<style scoped>\n",
       "    .dataframe tbody tr th:only-of-type {\n",
       "        vertical-align: middle;\n",
       "    }\n",
       "\n",
       "    .dataframe tbody tr th {\n",
       "        vertical-align: top;\n",
       "    }\n",
       "\n",
       "    .dataframe thead th {\n",
       "        text-align: right;\n",
       "    }\n",
       "</style>\n",
       "<table border=\"1\" class=\"dataframe\">\n",
       "  <thead>\n",
       "    <tr style=\"text-align: right;\">\n",
       "      <th></th>\n",
       "      <th>style_category_id</th>\n",
       "      <th>style_category_name</th>\n",
       "    </tr>\n",
       "  </thead>\n",
       "  <tbody>\n",
       "    <tr>\n",
       "      <th>0</th>\n",
       "      <td>1</td>\n",
       "      <td>Casual</td>\n",
       "    </tr>\n",
       "    <tr>\n",
       "      <th>1</th>\n",
       "      <td>2</td>\n",
       "      <td>Grunge</td>\n",
       "    </tr>\n",
       "    <tr>\n",
       "      <th>2</th>\n",
       "      <td>3</td>\n",
       "      <td>Business</td>\n",
       "    </tr>\n",
       "    <tr>\n",
       "      <th>3</th>\n",
       "      <td>4</td>\n",
       "      <td>Glam</td>\n",
       "    </tr>\n",
       "    <tr>\n",
       "      <th>4</th>\n",
       "      <td>5</td>\n",
       "      <td>Boho</td>\n",
       "    </tr>\n",
       "    <tr>\n",
       "      <th>5</th>\n",
       "      <td>6</td>\n",
       "      <td>Artsy</td>\n",
       "    </tr>\n",
       "    <tr>\n",
       "      <th>6</th>\n",
       "      <td>7</td>\n",
       "      <td>Smart Casual</td>\n",
       "    </tr>\n",
       "  </tbody>\n",
       "</table>\n",
       "</div>"
      ],
      "text/plain": [
       "   style_category_id style_category_name\n",
       "0                  1              Casual\n",
       "1                  2              Grunge\n",
       "2                  3            Business\n",
       "3                  4                Glam\n",
       "4                  5                Boho\n",
       "5                  6               Artsy\n",
       "6                  7        Smart Casual"
      ]
     },
     "execution_count": 157,
     "metadata": {},
     "output_type": "execute_result"
    }
   ],
   "source": [
    "# Style dictionary\n",
    "style = {\n",
    "    1: \"Casual\",\n",
    "    2: \"Grunge\",\n",
    "    3: \"Business\",\n",
    "    4: \"Glam\",\n",
    "    5: \"Boho\",\n",
    "    6: \"Artsy\",\n",
    "    7: \"Smart Casual\"\n",
    "}\n",
    "\n",
    "# Feedback category dictionary \n",
    "df_stylecat = pd.DataFrame(style, index=['style_category_name']).transpose()\n",
    "# Add index column\n",
    "df_stylecat.reset_index(inplace=True)\n",
    "df_stylecat.columns = 'style_category_id style_category_name'.split()\n",
    "df_stylecat"
   ]
  },
  {
   "cell_type": "code",
   "execution_count": 175,
   "metadata": {},
   "outputs": [
    {
     "data": {
      "text/html": [
       "<div>\n",
       "<style scoped>\n",
       "    .dataframe tbody tr th:only-of-type {\n",
       "        vertical-align: middle;\n",
       "    }\n",
       "\n",
       "    .dataframe tbody tr th {\n",
       "        vertical-align: top;\n",
       "    }\n",
       "\n",
       "    .dataframe thead th {\n",
       "        text-align: right;\n",
       "    }\n",
       "</style>\n",
       "<table border=\"1\" class=\"dataframe\">\n",
       "  <thead>\n",
       "    <tr style=\"text-align: right;\">\n",
       "      <th></th>\n",
       "      <th>style_category_id</th>\n",
       "      <th>0.0</th>\n",
       "      <th>1.0</th>\n",
       "      <th>3.0</th>\n",
       "      <th>4.0</th>\n",
       "      <th>7.0</th>\n",
       "    </tr>\n",
       "  </thead>\n",
       "  <tbody>\n",
       "    <tr>\n",
       "      <th rowspan=\"8\" valign=\"top\">feedback_id</th>\n",
       "      <th>count</th>\n",
       "      <td>19249.000000</td>\n",
       "      <td>13633.000000</td>\n",
       "      <td>7318.000000</td>\n",
       "      <td>9062.000000</td>\n",
       "      <td>19218.000000</td>\n",
       "    </tr>\n",
       "    <tr>\n",
       "      <th>mean</th>\n",
       "      <td>57092.812666</td>\n",
       "      <td>50112.907724</td>\n",
       "      <td>46667.616562</td>\n",
       "      <td>46270.771794</td>\n",
       "      <td>46135.301852</td>\n",
       "    </tr>\n",
       "    <tr>\n",
       "      <th>std</th>\n",
       "      <td>26784.712077</td>\n",
       "      <td>25358.224026</td>\n",
       "      <td>25421.953040</td>\n",
       "      <td>26488.635643</td>\n",
       "      <td>25591.578869</td>\n",
       "    </tr>\n",
       "    <tr>\n",
       "      <th>min</th>\n",
       "      <td>6733.000000</td>\n",
       "      <td>6806.000000</td>\n",
       "      <td>6808.000000</td>\n",
       "      <td>6839.000000</td>\n",
       "      <td>6805.000000</td>\n",
       "    </tr>\n",
       "    <tr>\n",
       "      <th>25%</th>\n",
       "      <td>29899.000000</td>\n",
       "      <td>24852.000000</td>\n",
       "      <td>22038.500000</td>\n",
       "      <td>21289.500000</td>\n",
       "      <td>21292.250000</td>\n",
       "    </tr>\n",
       "    <tr>\n",
       "      <th>50%</th>\n",
       "      <td>62594.000000</td>\n",
       "      <td>54166.000000</td>\n",
       "      <td>51047.500000</td>\n",
       "      <td>49806.500000</td>\n",
       "      <td>50142.500000</td>\n",
       "    </tr>\n",
       "    <tr>\n",
       "      <th>75%</th>\n",
       "      <td>82662.000000</td>\n",
       "      <td>73278.000000</td>\n",
       "      <td>70739.250000</td>\n",
       "      <td>71013.750000</td>\n",
       "      <td>70916.750000</td>\n",
       "    </tr>\n",
       "    <tr>\n",
       "      <th>max</th>\n",
       "      <td>91192.000000</td>\n",
       "      <td>91184.000000</td>\n",
       "      <td>91175.000000</td>\n",
       "      <td>91189.000000</td>\n",
       "      <td>91190.000000</td>\n",
       "    </tr>\n",
       "  </tbody>\n",
       "</table>\n",
       "</div>"
      ],
      "text/plain": [
       "style_category_id           0.0           1.0           3.0           4.0  \\\n",
       "feedback_id count  19249.000000  13633.000000   7318.000000   9062.000000   \n",
       "            mean   57092.812666  50112.907724  46667.616562  46270.771794   \n",
       "            std    26784.712077  25358.224026  25421.953040  26488.635643   \n",
       "            min     6733.000000   6806.000000   6808.000000   6839.000000   \n",
       "            25%    29899.000000  24852.000000  22038.500000  21289.500000   \n",
       "            50%    62594.000000  54166.000000  51047.500000  49806.500000   \n",
       "            75%    82662.000000  73278.000000  70739.250000  71013.750000   \n",
       "            max    91192.000000  91184.000000  91175.000000  91189.000000   \n",
       "\n",
       "style_category_id           7.0  \n",
       "feedback_id count  19218.000000  \n",
       "            mean   46135.301852  \n",
       "            std    25591.578869  \n",
       "            min     6805.000000  \n",
       "            25%    21292.250000  \n",
       "            50%    50142.500000  \n",
       "            75%    70916.750000  \n",
       "            max    91190.000000  "
      ]
     },
     "execution_count": 175,
     "metadata": {},
     "output_type": "execute_result"
    }
   ],
   "source": [
    "df[['feedback_id','style_category_id']].groupby('style_category_id').describe().transpose()\n",
    "\n",
    "#df[[\"feedback_id\",\"style_category_id\"]].transpose()"
   ]
  },
  {
   "cell_type": "code",
   "execution_count": 193,
   "metadata": {},
   "outputs": [
    {
     "data": {
      "image/png": "[encoded data removed]",
      "text/plain": [
       "<matplotlib.figure.Figure at 0x7fe0e1b21390>"
      ]
     },
     "metadata": {},
     "output_type": "display_data"
    }
   ],
   "source": [
    "# Left outer join.\n",
    "pd.merge(df,df_stylecat,how='left',on='style_category_id')[\"style_category_name\"].fillna(\"NaN\").value_counts().plot.pie()\n",
    "plt.show()"
   ]
  },
  {
   "cell_type": "code",
   "execution_count": 161,
   "metadata": {},
   "outputs": [
    {
     "data": {
      "image/png": "[encoded data removed]",
      "text/plain": [
       "<matplotlib.figure.Figure at 0x7fe0e196ff98>"
      ]
     },
     "metadata": {},
     "output_type": "display_data"
    }
   ],
   "source": [
    "# Simple \"style\" plot of original data\n",
    "df[\"style_category_id\"].fillna(-1).value_counts().plot.pie()\n",
    "plt.show()\n"
   ]
  },
  {
   "cell_type": "markdown",
   "metadata": {},
   "source": [
    "## Weather"
   ]
  },
  {
   "cell_type": "code",
   "execution_count": 187,
   "metadata": {},
   "outputs": [],
   "source": [
    "# Weather dictionary\n",
    "weather = {\n",
    "#        -1: \"Unknown\",\n",
    "        1: \"Freezing\",\n",
    "        2: \"Cold\",\n",
    "        3: \"Chilly\",\n",
    "        4: \"Fresh\",\n",
    "        5: \"Warm\",\n",
    "        6: \"Hot\",\n",
    "        7: \"Wind\",\n",
    "        8: \"Rain\",\n",
    "        9: \"Snow\"\n",
    "    }\n",
    "#weather[-1]"
   ]
  },
  {
   "cell_type": "code",
   "execution_count": 188,
   "metadata": {},
   "outputs": [
    {
     "data": {
      "text/html": [
       "<div>\n",
       "<style scoped>\n",
       "    .dataframe tbody tr th:only-of-type {\n",
       "        vertical-align: middle;\n",
       "    }\n",
       "\n",
       "    .dataframe tbody tr th {\n",
       "        vertical-align: top;\n",
       "    }\n",
       "\n",
       "    .dataframe thead th {\n",
       "        text-align: right;\n",
       "    }\n",
       "</style>\n",
       "<table border=\"1\" class=\"dataframe\">\n",
       "  <thead>\n",
       "    <tr style=\"text-align: right;\">\n",
       "      <th></th>\n",
       "      <th>weather_category_id</th>\n",
       "      <th>weather_category_name</th>\n",
       "    </tr>\n",
       "  </thead>\n",
       "  <tbody>\n",
       "    <tr>\n",
       "      <th>0</th>\n",
       "      <td>1</td>\n",
       "      <td>Freezing</td>\n",
       "    </tr>\n",
       "    <tr>\n",
       "      <th>1</th>\n",
       "      <td>2</td>\n",
       "      <td>Cold</td>\n",
       "    </tr>\n",
       "    <tr>\n",
       "      <th>2</th>\n",
       "      <td>3</td>\n",
       "      <td>Chilly</td>\n",
       "    </tr>\n",
       "    <tr>\n",
       "      <th>3</th>\n",
       "      <td>4</td>\n",
       "      <td>Fresh</td>\n",
       "    </tr>\n",
       "    <tr>\n",
       "      <th>4</th>\n",
       "      <td>5</td>\n",
       "      <td>Warm</td>\n",
       "    </tr>\n",
       "    <tr>\n",
       "      <th>5</th>\n",
       "      <td>6</td>\n",
       "      <td>Hot</td>\n",
       "    </tr>\n",
       "    <tr>\n",
       "      <th>6</th>\n",
       "      <td>7</td>\n",
       "      <td>Wind</td>\n",
       "    </tr>\n",
       "    <tr>\n",
       "      <th>7</th>\n",
       "      <td>8</td>\n",
       "      <td>Rain</td>\n",
       "    </tr>\n",
       "    <tr>\n",
       "      <th>8</th>\n",
       "      <td>9</td>\n",
       "      <td>Snow</td>\n",
       "    </tr>\n",
       "  </tbody>\n",
       "</table>\n",
       "</div>"
      ],
      "text/plain": [
       "   weather_category_id weather_category_name\n",
       "0                    1              Freezing\n",
       "1                    2                  Cold\n",
       "2                    3                Chilly\n",
       "3                    4                 Fresh\n",
       "4                    5                  Warm\n",
       "5                    6                   Hot\n",
       "6                    7                  Wind\n",
       "7                    8                  Rain\n",
       "8                    9                  Snow"
      ]
     },
     "execution_count": 188,
     "metadata": {},
     "output_type": "execute_result"
    }
   ],
   "source": [
    "# Weather category dictionary \n",
    "df_weathercat = pd.DataFrame(weather, index=['weather_category_name']).transpose()\n",
    "# Add index column\n",
    "df_weathercat.reset_index(inplace=True)\n",
    "df_weathercat.columns = 'weather_category_id weather_category_name'.split()\n",
    "df_weathercat"
   ]
  },
  {
   "cell_type": "code",
   "execution_count": 192,
   "metadata": {},
   "outputs": [
    {
     "data": {
      "image/png": "[encoded data removed]",
      "text/plain": [
       "<matplotlib.figure.Figure at 0x7fe0e22f0780>"
      ]
     },
     "metadata": {},
     "output_type": "display_data"
    }
   ],
   "source": [
    "# Left outer join.\n",
    "pd.merge(df,df_weathercat,how='left',on='weather_category_id')[\"weather_category_name\"].fillna(\"Nan\").value_counts().plot.pie()\n",
    "plt.show()"
   ]
  },
  {
   "cell_type": "code",
   "execution_count": 195,
   "metadata": {},
   "outputs": [
    {
     "data": {
      "image/png": "[encoded data removed]",
      "text/plain": [
       "<matplotlib.figure.Figure at 0x7fe0e1742e80>"
      ]
     },
     "metadata": {},
     "output_type": "display_data"
    }
   ],
   "source": [
    "# Simple \"weather\" plot\n",
    "df[\"weather_category_id\"].fillna(-1).value_counts().plot.pie()\n",
    "plt.show()"
   ]
  },
  {
   "cell_type": "code",
   "execution_count": null,
   "metadata": {
    "collapsed": true
   },
   "outputs": [],
   "source": []
  }
 ],
 "metadata": {
  "kernelspec": {
   "display_name": "Python 3",
   "language": "python",
   "name": "python3"
  },
  "language_info": {
   "codemirror_mode": {
    "name": "ipython",
    "version": 3
   },
   "file_extension": ".py",
   "mimetype": "text/x-python",
   "name": "python",
   "nbconvert_exporter": "python",
   "pygments_lexer": "ipython3",
   "version": "3.4.3"
  }
 },
 "nbformat": 4,
 "nbformat_minor": 2
}
