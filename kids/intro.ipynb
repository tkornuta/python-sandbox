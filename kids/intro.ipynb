{
  "nbformat": 4,
  "nbformat_minor": 0,
  "metadata": {
    "colab": {
      "name": "intro.ipynb",
      "provenance": [],
      "authorship_tag": "ABX9TyOY5rN9ZYOb685nP5go3aEJ",
      "include_colab_link": true
    },
    "kernelspec": {
      "name": "python3",
      "display_name": "Python 3"
    }
  },
  "cells": [
    {
      "cell_type": "markdown",
      "metadata": {
        "id": "view-in-github",
        "colab_type": "text"
      },
      "source": [
        "<a href=\"https://colab.research.google.com/github/tkornuta/python-sandbox/blob/master/kids/intro.ipynb\" target=\"_parent\"><img src=\"https://colab.research.google.com/assets/colab-badge.svg\" alt=\"Open In Colab\"/></a>"
      ]
    },
    {
      "cell_type": "code",
      "metadata": {
        "id": "91U_i4V440tC",
        "colab_type": "code",
        "colab": {
          "base_uri": "https://localhost:8080/",
          "height": 34
        },
        "outputId": "ffbeb910-5d9d-4c46-8e99-1cac4eda47f5"
      },
      "source": [
        "# Our first python notebook in Colab.\n",
        "# The # symbol means it is a comment, and it won't be executed.\n",
        "# You can type in here whatever you want ;)\n",
        "# Now let's print something\n",
        "print(\"Hi Gucio and Staś\")"
      ],
      "execution_count": 1,
      "outputs": [
        {
          "output_type": "stream",
          "text": [
            "Hi Gucio and Staś\n"
          ],
          "name": "stdout"
        }
      ]
    },
    {
      "cell_type": "code",
      "metadata": {
        "id": "aFedobsx7yMG",
        "colab_type": "code",
        "colab": {
          "base_uri": "https://localhost:8080/",
          "height": 34
        },
        "outputId": "78cb0a61-1050-4f5d-ed8f-6cb5a35a6819"
      },
      "source": [
        "# Now let's do some elementary math.\n",
        "a = 1\n",
        "b = 2\n",
        "c = a + b\n",
        "# Show the result.\n",
        "c"
      ],
      "execution_count": 2,
      "outputs": [
        {
          "output_type": "execute_result",
          "data": {
            "text/plain": [
              "3"
            ]
          },
          "metadata": {
            "tags": []
          },
          "execution_count": 2
        }
      ]
    }
  ]
}