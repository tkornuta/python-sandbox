{
 "cells": [
  {
   "cell_type": "markdown",
   "metadata": {},
   "source": [
    "http://blog.yhat.com/tutorials/5-Feature-Engineering.html"
   ]
  },
  {
   "cell_type": "code",
   "execution_count": 3,
   "metadata": {},
   "outputs": [],
   "source": [
    "# Import libraries\n",
    "import math\n",
    "import pandas as pd\n",
    "import numpy as np\n",
    "import matplotlib.pyplot as plt\n",
    "%matplotlib inline\n",
    "\n",
    "from sklearn.ensemble import RandomForestClassifier"
   ]
  },
  {
   "cell_type": "code",
   "execution_count": 5,
   "metadata": {},
   "outputs": [
    {
     "data": {
      "text/html": [
       "<div>\n",
       "<style scoped>\n",
       "    .dataframe tbody tr th:only-of-type {\n",
       "        vertical-align: middle;\n",
       "    }\n",
       "\n",
       "    .dataframe tbody tr th {\n",
       "        vertical-align: top;\n",
       "    }\n",
       "\n",
       "    .dataframe thead th {\n",
       "        text-align: right;\n",
       "    }\n",
       "</style>\n",
       "<table border=\"1\" class=\"dataframe\">\n",
       "  <thead>\n",
       "    <tr style=\"text-align: right;\">\n",
       "      <th></th>\n",
       "      <th>serious_dlqin2yrs</th>\n",
       "      <th>revolving_utilization_of_unsecured_lines</th>\n",
       "      <th>age</th>\n",
       "      <th>number_of_time30-59_days_past_due_not_worse</th>\n",
       "      <th>debt_ratio</th>\n",
       "      <th>monthly_income</th>\n",
       "      <th>number_of_open_credit_lines_and_loans</th>\n",
       "      <th>number_of_times90_days_late</th>\n",
       "      <th>number_real_estate_loans_or_lines</th>\n",
       "      <th>number_of_time60-89_days_past_due_not_worse</th>\n",
       "      <th>number_of_dependents</th>\n",
       "    </tr>\n",
       "  </thead>\n",
       "  <tbody>\n",
       "    <tr>\n",
       "      <th>0</th>\n",
       "      <td>1</td>\n",
       "      <td>0.766127</td>\n",
       "      <td>45</td>\n",
       "      <td>2</td>\n",
       "      <td>0.802982</td>\n",
       "      <td>9120.0</td>\n",
       "      <td>13</td>\n",
       "      <td>0</td>\n",
       "      <td>6</td>\n",
       "      <td>0</td>\n",
       "      <td>2.0</td>\n",
       "    </tr>\n",
       "    <tr>\n",
       "      <th>1</th>\n",
       "      <td>0</td>\n",
       "      <td>0.957151</td>\n",
       "      <td>40</td>\n",
       "      <td>0</td>\n",
       "      <td>0.121876</td>\n",
       "      <td>2600.0</td>\n",
       "      <td>4</td>\n",
       "      <td>0</td>\n",
       "      <td>0</td>\n",
       "      <td>0</td>\n",
       "      <td>1.0</td>\n",
       "    </tr>\n",
       "    <tr>\n",
       "      <th>2</th>\n",
       "      <td>0</td>\n",
       "      <td>0.658180</td>\n",
       "      <td>38</td>\n",
       "      <td>1</td>\n",
       "      <td>0.085113</td>\n",
       "      <td>3042.0</td>\n",
       "      <td>2</td>\n",
       "      <td>1</td>\n",
       "      <td>0</td>\n",
       "      <td>0</td>\n",
       "      <td>0.0</td>\n",
       "    </tr>\n",
       "    <tr>\n",
       "      <th>3</th>\n",
       "      <td>0</td>\n",
       "      <td>0.907239</td>\n",
       "      <td>49</td>\n",
       "      <td>1</td>\n",
       "      <td>0.024926</td>\n",
       "      <td>63588.0</td>\n",
       "      <td>7</td>\n",
       "      <td>0</td>\n",
       "      <td>1</td>\n",
       "      <td>0</td>\n",
       "      <td>0.0</td>\n",
       "    </tr>\n",
       "    <tr>\n",
       "      <th>4</th>\n",
       "      <td>0</td>\n",
       "      <td>0.213179</td>\n",
       "      <td>74</td>\n",
       "      <td>0</td>\n",
       "      <td>0.375607</td>\n",
       "      <td>3500.0</td>\n",
       "      <td>3</td>\n",
       "      <td>0</td>\n",
       "      <td>1</td>\n",
       "      <td>0</td>\n",
       "      <td>1.0</td>\n",
       "    </tr>\n",
       "  </tbody>\n",
       "</table>\n",
       "</div>"
      ],
      "text/plain": [
       "   serious_dlqin2yrs  revolving_utilization_of_unsecured_lines  age  \\\n",
       "0                  1                                  0.766127   45   \n",
       "1                  0                                  0.957151   40   \n",
       "2                  0                                  0.658180   38   \n",
       "3                  0                                  0.907239   49   \n",
       "4                  0                                  0.213179   74   \n",
       "\n",
       "   number_of_time30-59_days_past_due_not_worse  debt_ratio  monthly_income  \\\n",
       "0                                            2    0.802982          9120.0   \n",
       "1                                            0    0.121876          2600.0   \n",
       "2                                            1    0.085113          3042.0   \n",
       "3                                            1    0.024926         63588.0   \n",
       "4                                            0    0.375607          3500.0   \n",
       "\n",
       "   number_of_open_credit_lines_and_loans  number_of_times90_days_late  \\\n",
       "0                                     13                            0   \n",
       "1                                      4                            0   \n",
       "2                                      2                            1   \n",
       "3                                      7                            0   \n",
       "4                                      3                            0   \n",
       "\n",
       "   number_real_estate_loans_or_lines  \\\n",
       "0                                  6   \n",
       "1                                  0   \n",
       "2                                  0   \n",
       "3                                  1   \n",
       "4                                  1   \n",
       "\n",
       "   number_of_time60-89_days_past_due_not_worse  number_of_dependents  \n",
       "0                                            0                   2.0  \n",
       "1                                            0                   1.0  \n",
       "2                                            0                   0.0  \n",
       "3                                            0                   0.0  \n",
       "4                                            0                   1.0  "
      ]
     },
     "execution_count": 5,
     "metadata": {},
     "output_type": "execute_result"
    }
   ],
   "source": [
    "# Download and read cvs example from AWS.\n",
    "df = pd.read_csv(\"https://rodeo-tutorials.s3.amazonaws.com/data/credit-data-trainingset.csv\")\n",
    "df.head(5)"
   ]
  },
  {
   "cell_type": "code",
   "execution_count": 8,
   "metadata": {},
   "outputs": [
    {
     "data": {
      "text/plain": [
       "<matplotlib.axes._subplots.AxesSubplot at 0x7f9493ab3390>"
      ]
     },
     "execution_count": 8,
     "metadata": {},
     "output_type": "execute_result"
    },
    {
     "data": {
      "image/png": "[encoded data removed]",
      "text/plain": [
       "<matplotlib.figure.Figure at 0x7f9493a93f60>"
      ]
     },
     "metadata": {},
     "output_type": "display_data"
    }
   ],
   "source": [
    "df['serious_dlqin2yrs'].hist()"
   ]
  },
  {
   "cell_type": "code",
   "execution_count": 6,
   "metadata": {},
   "outputs": [
    {
     "data": {
      "text/plain": [
       "RandomForestClassifier(bootstrap=True, class_weight=None, criterion='gini',\n",
       "            max_depth=None, max_features='auto', max_leaf_nodes=None,\n",
       "            min_impurity_split=1e-07, min_samples_leaf=1,\n",
       "            min_samples_split=2, min_weight_fraction_leaf=0.0,\n",
       "            n_estimators=10, n_jobs=1, oob_score=False, random_state=None,\n",
       "            verbose=0, warm_start=False)"
      ]
     },
     "execution_count": 6,
     "metadata": {},
     "output_type": "execute_result"
    }
   ],
   "source": [
    "# Set features.\n",
    "features = np.array(['revolving_utilization_of_unsecured_lines',\n",
    "                     'age', 'number_of_time30-59_days_past_due_not_worse',\n",
    "                     'debt_ratio', 'monthly_income','number_of_open_credit_lines_and_loans', \n",
    "                     'number_of_times90_days_late', 'number_real_estate_loans_or_lines',\n",
    "                     'number_of_time60-89_days_past_due_not_worse', 'number_of_dependents'])\n",
    "# Build RF classifier.\n",
    "clf = RandomForestClassifier()\n",
    "clf.fit(df[features], df['serious_dlqin2yrs'])"
   ]
  },
  {
   "cell_type": "code",
   "execution_count": 9,
   "metadata": {
    "collapsed": true
   },
   "outputs": [],
   "source": [
    "# from the calculated importances, order them from most to least important\n",
    "# and make a barplot so we can visualize what is/isn't important\n",
    "importances = clf.feature_importances_\n",
    "sorted_idx = np.argsort(importances)"
   ]
  },
  {
   "cell_type": "code",
   "execution_count": 11,
   "metadata": {
    "scrolled": true
   },
   "outputs": [
    {
     "data": {
      "image/png": "[encoded data removed]",
      "text/plain": [
       "<matplotlib.figure.Figure at 0x7f9491810c88>"
      ]
     },
     "metadata": {},
     "output_type": "display_data"
    }
   ],
   "source": [
    "padding = np.arange(len(features)) + 0.5\n",
    "plt.barh(padding, importances[sorted_idx], align='center')\n",
    "plt.yticks(padding, features[sorted_idx])\n",
    "plt.xlabel(\"Relative Importance\")\n",
    "plt.title(\"Variable Importance\")\n",
    "plt.show()"
   ]
  },
  {
   "cell_type": "code",
   "execution_count": 172,
   "metadata": {
    "scrolled": true
   },
   "outputs": [
    {
     "data": {
      "text/plain": [
       "(-3008.75, 200583.333]        112392\n",
       "(200583.333, 401166.667]          11\n",
       "(601750.0, 802333.333]             5\n",
       "(401166.667, 601750.0]             4\n",
       "(2808166.667, 3008750.0]           1\n",
       "(1404083.333, 1604666.667]         1\n",
       "(802333.333, 1002916.667]          1\n",
       "(2607583.333, 2808166.667]         0\n",
       "(2407000.0, 2607583.333]           0\n",
       "(2206416.667, 2407000.0]           0\n",
       "(2005833.333, 2206416.667]         0\n",
       "(1805250.0, 2005833.333]           0\n",
       "(1604666.667, 1805250.0]           0\n",
       "(1203500.0, 1404083.333]           0\n",
       "(1002916.667, 1203500.0]           0\n",
       "Name: income_bins, dtype: int64"
      ]
     },
     "execution_count": 172,
     "metadata": {},
     "output_type": "execute_result"
    }
   ],
   "source": [
    "# Bucketing Continuous Values\n",
    "df['income_bins'] = pd.cut(df.monthly_income, bins=15)\n",
    "pd.value_counts(df['income_bins'])\n",
    "# not very usefull"
   ]
  },
  {
   "cell_type": "code",
   "execution_count": 173,
   "metadata": {},
   "outputs": [
    {
     "data": {
      "text/plain": [
       "3008750.0"
      ]
     },
     "execution_count": 173,
     "metadata": {},
     "output_type": "execute_result"
    }
   ],
   "source": [
    "mi_max = df['monthly_income'].max()\n",
    "mi_max"
   ]
  },
  {
   "cell_type": "code",
   "execution_count": 174,
   "metadata": {},
   "outputs": [
    {
     "data": {
      "text/plain": [
       "<matplotlib.axes._subplots.AxesSubplot at 0x7f947e72e400>"
      ]
     },
     "execution_count": 174,
     "metadata": {},
     "output_type": "execute_result"
    },
    {
     "data": {
      "image/png": "[encoded data removed]",
      "text/plain": [
       "<matplotlib.figure.Figure at 0x7f947e738b38>"
      ]
     },
     "metadata": {},
     "output_type": "display_data"
    }
   ],
   "source": [
    "df['monthly_income'].hist(bins=10,range=[50000,mi_max])"
   ]
  },
  {
   "cell_type": "markdown",
   "metadata": {},
   "source": [
    "### Bin monthly income into buckets"
   ]
  },
  {
   "cell_type": "code",
   "execution_count": 175,
   "metadata": {},
   "outputs": [
    {
     "data": {
      "text/plain": [
       "array([0.000000e+00, 1.250000e+03, 2.500000e+03, 3.750000e+03,\n",
       "       5.000000e+03, 6.250000e+03, 7.500000e+03, 8.750000e+03,\n",
       "       1.000000e+04, 3.000000e+04, 5.000000e+04, 1.529375e+06,\n",
       "       3.008750e+06])"
      ]
     },
     "execution_count": 175,
     "metadata": {},
     "output_type": "execute_result"
    }
   ],
   "source": [
    "front = np.linspace(0, 10000, 9)\n",
    "mid = np.delete(np.linspace(10000, 50000, 3), 0, 0)\n",
    "tail = np.delete(np.linspace(50000, math.ceil(df['monthly_income'].max()), 3),0, 0)\n",
    "bins = np.append(front, [mid, tail])\n",
    "bins"
   ]
  },
  {
   "cell_type": "code",
   "execution_count": 176,
   "metadata": {
    "scrolled": true
   },
   "outputs": [
    {
     "data": {
      "text/plain": [
       "3.0     18679\n",
       "2.0     16304\n",
       "8.0     15175\n",
       "4.0     15016\n",
       "1.0     14474\n",
       "5.0     11748\n",
       "6.0      7924\n",
       "7.0      7238\n",
       "0.0      4041\n",
       "9.0       363\n",
       "10.0      224\n",
       "11.0        2\n",
       "Name: income_bins, dtype: int64"
      ]
     },
     "execution_count": 176,
     "metadata": {},
     "output_type": "execute_result"
    }
   ],
   "source": [
    "df['income_bins'] = pd.cut(df.monthly_income, bins=bins, labels=False)\n",
    "pd.value_counts(df.income_bins)"
   ]
  },
  {
   "cell_type": "code",
   "execution_count": 181,
   "metadata": {},
   "outputs": [
    {
     "data": {
      "text/plain": [
       "0"
      ]
     },
     "execution_count": 181,
     "metadata": {},
     "output_type": "execute_result"
    }
   ],
   "source": [
    "# Remove nulls :]\n",
    "df['income_bins'].isnull().sum()\n",
    "df['income_bins'] = df['income_bins'].fillna(-1)"
   ]
  },
  {
   "cell_type": "markdown",
   "metadata": {},
   "source": [
    "### Inspecting the predictive value of your bins\n",
    " A quick and dirty way to see the effectiveness of derived bins is to inspect their distribution \n",
    "as it relates to the variable you're predicting. For us that means cross-tablulating it against serious_dlqin2yrs."
   ]
  },
  {
   "cell_type": "code",
   "execution_count": 126,
   "metadata": {},
   "outputs": [
    {
     "data": {
      "text/html": [
       "<div>\n",
       "<style scoped>\n",
       "    .dataframe tbody tr th:only-of-type {\n",
       "        vertical-align: middle;\n",
       "    }\n",
       "\n",
       "    .dataframe tbody tr th {\n",
       "        vertical-align: top;\n",
       "    }\n",
       "\n",
       "    .dataframe thead th {\n",
       "        text-align: right;\n",
       "    }\n",
       "</style>\n",
       "<table border=\"1\" class=\"dataframe\">\n",
       "  <thead>\n",
       "    <tr style=\"text-align: right;\">\n",
       "      <th></th>\n",
       "      <th>serious_dlqin2yrs</th>\n",
       "    </tr>\n",
       "    <tr>\n",
       "      <th>income_bins</th>\n",
       "      <th></th>\n",
       "    </tr>\n",
       "  </thead>\n",
       "  <tbody>\n",
       "    <tr>\n",
       "      <th>0.0</th>\n",
       "      <td>0.063846</td>\n",
       "    </tr>\n",
       "    <tr>\n",
       "      <th>1.0</th>\n",
       "      <td>0.093754</td>\n",
       "    </tr>\n",
       "    <tr>\n",
       "      <th>2.0</th>\n",
       "      <td>0.085684</td>\n",
       "    </tr>\n",
       "    <tr>\n",
       "      <th>3.0</th>\n",
       "      <td>0.070025</td>\n",
       "    </tr>\n",
       "    <tr>\n",
       "      <th>4.0</th>\n",
       "      <td>0.066396</td>\n",
       "    </tr>\n",
       "    <tr>\n",
       "      <th>5.0</th>\n",
       "      <td>0.056265</td>\n",
       "    </tr>\n",
       "    <tr>\n",
       "      <th>6.0</th>\n",
       "      <td>0.053130</td>\n",
       "    </tr>\n",
       "    <tr>\n",
       "      <th>7.0</th>\n",
       "      <td>0.050152</td>\n",
       "    </tr>\n",
       "    <tr>\n",
       "      <th>8.0</th>\n",
       "      <td>0.043954</td>\n",
       "    </tr>\n",
       "    <tr>\n",
       "      <th>9.0</th>\n",
       "      <td>0.044077</td>\n",
       "    </tr>\n",
       "    <tr>\n",
       "      <th>10.0</th>\n",
       "      <td>0.058036</td>\n",
       "    </tr>\n",
       "    <tr>\n",
       "      <th>11.0</th>\n",
       "      <td>0.000000</td>\n",
       "    </tr>\n",
       "  </tbody>\n",
       "</table>\n",
       "</div>"
      ],
      "text/plain": [
       "             serious_dlqin2yrs\n",
       "income_bins                   \n",
       "0.0                   0.063846\n",
       "1.0                   0.093754\n",
       "2.0                   0.085684\n",
       "3.0                   0.070025\n",
       "4.0                   0.066396\n",
       "5.0                   0.056265\n",
       "6.0                   0.053130\n",
       "7.0                   0.050152\n",
       "8.0                   0.043954\n",
       "9.0                   0.044077\n",
       "10.0                  0.058036\n",
       "11.0                  0.000000"
      ]
     },
     "execution_count": 126,
     "metadata": {},
     "output_type": "execute_result"
    }
   ],
   "source": [
    "# In this case, it's very easy to see in the plot that serious_dlqin2yrs tends to be higher \n",
    "# where the income_bins are lower.\n",
    "\n",
    "df[[\"income_bins\", \"serious_dlqin2yrs\"]].groupby(\"income_bins\").mean()"
   ]
  },
  {
   "cell_type": "code",
   "execution_count": 127,
   "metadata": {},
   "outputs": [
    {
     "data": {
      "text/plain": [
       "<matplotlib.axes._subplots.AxesSubplot at 0x7f94827e4cc0>"
      ]
     },
     "execution_count": 127,
     "metadata": {},
     "output_type": "execute_result"
    },
    {
     "data": {
      "image/png": "[encoded data removed]",
      "text/plain": [
       "<matplotlib.figure.Figure at 0x7f9482da9eb8>"
      ]
     },
     "metadata": {},
     "output_type": "display_data"
    }
   ],
   "source": [
    "cols = [\"income_bins\", \"serious_dlqin2yrs\"]\n",
    "df[cols].groupby(\"income_bins\").mean().plot()"
   ]
  },
  {
   "cell_type": "code",
   "execution_count": 128,
   "metadata": {},
   "outputs": [
    {
     "data": {
      "text/plain": [
       "<matplotlib.axes._subplots.AxesSubplot at 0x7f94821d1e48>"
      ]
     },
     "execution_count": 128,
     "metadata": {},
     "output_type": "execute_result"
    },
    {
     "data": {
      "image/png": "[encoded data removed]",
      "text/plain": [
       "<matplotlib.figure.Figure at 0x7f9482054f60>"
      ]
     },
     "metadata": {},
     "output_type": "display_data"
    }
   ],
   "source": [
    "# continuous distributions\n",
    "cols = ['age', 'serious_dlqin2yrs']\n",
    "age_means = df[cols].groupby(\"age\").mean()\n",
    "age_means.plot()"
   ]
  },
  {
   "cell_type": "code",
   "execution_count": 129,
   "metadata": {},
   "outputs": [
    {
     "data": {
      "text/plain": [
       "(45, 50]     14112\n",
       "(50, 55]     13390\n",
       "(55, 60]     12629\n",
       "(60, 65]     12317\n",
       "(40, 45]     12053\n",
       "(35, 40]     10241\n",
       "(65, 70]      8315\n",
       "(30, 35]      8123\n",
       "(75, 120]     7581\n",
       "(25, 30]      5803\n",
       "(70, 75]      5600\n",
       "(20, 25]      2250\n",
       "(0, 20]          0\n",
       "Name: age_bucket, dtype: int64"
      ]
     },
     "execution_count": 129,
     "metadata": {},
     "output_type": "execute_result"
    }
   ],
   "source": [
    "# Bin age into buckets\n",
    "mybins = [0] + list(range(20, 80, 5)) + [120]\n",
    "df['age_bucket'] = pd.cut(df.age, bins=mybins)\n",
    "df['age_bucket'].value_counts()"
   ]
  },
  {
   "cell_type": "code",
   "execution_count": 130,
   "metadata": {},
   "outputs": [
    {
     "data": {
      "text/html": [
       "<div>\n",
       "<style scoped>\n",
       "    .dataframe tbody tr th:only-of-type {\n",
       "        vertical-align: middle;\n",
       "    }\n",
       "\n",
       "    .dataframe tbody tr th {\n",
       "        vertical-align: top;\n",
       "    }\n",
       "\n",
       "    .dataframe thead th {\n",
       "        text-align: right;\n",
       "    }\n",
       "</style>\n",
       "<table border=\"1\" class=\"dataframe\">\n",
       "  <thead>\n",
       "    <tr style=\"text-align: right;\">\n",
       "      <th></th>\n",
       "      <th>serious_dlqin2yrs</th>\n",
       "    </tr>\n",
       "    <tr>\n",
       "      <th>age_bucket</th>\n",
       "      <th></th>\n",
       "    </tr>\n",
       "  </thead>\n",
       "  <tbody>\n",
       "    <tr>\n",
       "      <th>(0, 20]</th>\n",
       "      <td>0.000000</td>\n",
       "    </tr>\n",
       "    <tr>\n",
       "      <th>(20, 25]</th>\n",
       "      <td>0.109778</td>\n",
       "    </tr>\n",
       "    <tr>\n",
       "      <th>(25, 30]</th>\n",
       "      <td>0.116319</td>\n",
       "    </tr>\n",
       "    <tr>\n",
       "      <th>(30, 35]</th>\n",
       "      <td>0.108211</td>\n",
       "    </tr>\n",
       "    <tr>\n",
       "      <th>(35, 40]</th>\n",
       "      <td>0.088956</td>\n",
       "    </tr>\n",
       "    <tr>\n",
       "      <th>(40, 45]</th>\n",
       "      <td>0.085124</td>\n",
       "    </tr>\n",
       "    <tr>\n",
       "      <th>(45, 50]</th>\n",
       "      <td>0.080995</td>\n",
       "    </tr>\n",
       "    <tr>\n",
       "      <th>(50, 55]</th>\n",
       "      <td>0.072890</td>\n",
       "    </tr>\n",
       "    <tr>\n",
       "      <th>(55, 60]</th>\n",
       "      <td>0.050598</td>\n",
       "    </tr>\n",
       "    <tr>\n",
       "      <th>(60, 65]</th>\n",
       "      <td>0.039864</td>\n",
       "    </tr>\n",
       "    <tr>\n",
       "      <th>(65, 70]</th>\n",
       "      <td>0.026458</td>\n",
       "    </tr>\n",
       "    <tr>\n",
       "      <th>(70, 75]</th>\n",
       "      <td>0.026607</td>\n",
       "    </tr>\n",
       "    <tr>\n",
       "      <th>(75, 120]</th>\n",
       "      <td>0.020314</td>\n",
       "    </tr>\n",
       "  </tbody>\n",
       "</table>\n",
       "</div>"
      ],
      "text/plain": [
       "            serious_dlqin2yrs\n",
       "age_bucket                   \n",
       "(0, 20]              0.000000\n",
       "(20, 25]             0.109778\n",
       "(25, 30]             0.116319\n",
       "(30, 35]             0.108211\n",
       "(35, 40]             0.088956\n",
       "(40, 45]             0.085124\n",
       "(45, 50]             0.080995\n",
       "(50, 55]             0.072890\n",
       "(55, 60]             0.050598\n",
       "(60, 65]             0.039864\n",
       "(65, 70]             0.026458\n",
       "(70, 75]             0.026607\n",
       "(75, 120]            0.020314"
      ]
     },
     "execution_count": 130,
     "metadata": {},
     "output_type": "execute_result"
    }
   ],
   "source": [
    "# Using the age bins, calculate the percent of customers that were delinquent for each bucket\n",
    "df[[\"age_bucket\", \"serious_dlqin2yrs\"]].groupby(\"age_bucket\").mean().fillna(0)"
   ]
  },
  {
   "cell_type": "code",
   "execution_count": 131,
   "metadata": {},
   "outputs": [
    {
     "data": {
      "text/plain": [
       "<matplotlib.axes._subplots.AxesSubplot at 0x7f9481706748>"
      ]
     },
     "execution_count": 131,
     "metadata": {},
     "output_type": "execute_result"
    },
    {
     "data": {
      "image/png": "[encoded data removed]",
      "text/plain": [
       "<matplotlib.figure.Figure at 0x7f9482d1c400>"
      ]
     },
     "metadata": {},
     "output_type": "display_data"
    }
   ],
   "source": [
    "df[[\"age_bucket\", \"serious_dlqin2yrs\"]].groupby(\"age_bucket\").mean().plot()"
   ]
  },
  {
   "cell_type": "markdown",
   "metadata": {},
   "source": [
    "### Factorize - turning categoricals into numericals\n",
    "Use factorize to encode categorical data (\"A\", \"B\", \"C\", \"A\") into numerical data (0, 1, 2, 0).\n",
    "\n"
   ]
  },
  {
   "cell_type": "code",
   "execution_count": 132,
   "metadata": {},
   "outputs": [
    {
     "data": {
      "text/plain": [
       "0    0\n",
       "1    1\n",
       "2    1\n",
       "3    2\n",
       "4    3\n",
       "Name: age_bucket, dtype: int64"
      ]
     },
     "execution_count": 132,
     "metadata": {},
     "output_type": "execute_result"
    }
   ],
   "source": [
    "labels, levels = pd.factorize(df.age_bucket)\n",
    "df.age_bucket = labels\n",
    "df.age_bucket.head()"
   ]
  },
  {
   "cell_type": "markdown",
   "metadata": {},
   "source": [
    "### Write something that buckets debt_ratio into 4 (nearly) equally sized groups. \n",
    "Hint: use the quantile method for Series"
   ]
  },
  {
   "cell_type": "code",
   "execution_count": 133,
   "metadata": {},
   "outputs": [
    {
     "name": "stdout",
     "output_type": "stream",
     "text": [
      "(3.838, 307001.0]    22483\n",
      "(0.467, 3.838]       22483\n",
      "(0.287, 0.467]       22483\n",
      "(0.134, 0.287]       22483\n",
      "Name: debt_ratio, dtype: int64\n"
     ]
    }
   ],
   "source": [
    "bins = []\n",
    "\n",
    "for q in [0.2, 0.4, 0.6, 0.8, 1.0]:\n",
    "    bins.append(df.debt_ratio.quantile(q))\n",
    "\n",
    "debt_ratio_binned = pd.cut(df.debt_ratio, bins=bins)\n",
    "debt_ratio_binned\n",
    "print(pd.value_counts(debt_ratio_binned))"
   ]
  },
  {
   "cell_type": "markdown",
   "metadata": {},
   "source": [
    "### Scaling Features\n",
    "Some algorithms will work better if your data is centered around 0. The StandardScaler module in scikit-learn makes it very easy to quickly scale columns in your data frame.\n"
   ]
  },
  {
   "cell_type": "code",
   "execution_count": 140,
   "metadata": {
    "scrolled": true
   },
   "outputs": [
    {
     "name": "stdout",
     "output_type": "stream",
     "text": [
      "count    1.124150e+05\n",
      "mean    -1.213577e-17\n",
      "std      1.000004e+00\n",
      "min     -4.851543e-01\n",
      "25%     -2.383750e-01\n",
      "50%     -8.847657e-02\n",
      "75%      1.251191e-01\n",
      "max      2.290349e+02\n",
      "Name: monthly_income_scaled, dtype: float64\n",
      "Mean at 0? True\n"
     ]
    }
   ],
   "source": [
    "from sklearn.preprocessing import StandardScaler\n",
    "\n",
    "df['monthly_income_scaled'] = StandardScaler().fit_transform(df.monthly_income.values.reshape(-1,1))\n",
    "\n",
    "print(df.monthly_income_scaled.describe())\n",
    "print(\"Mean at 0?\", round(df.monthly_income_scaled.mean(), 10)==0)"
   ]
  },
  {
   "cell_type": "code",
   "execution_count": 163,
   "metadata": {
    "scrolled": true
   },
   "outputs": [
    {
     "data": {
      "text/plain": [
       "(array([2.2600e+03, 6.1960e+03, 7.2680e+03, 1.0217e+04, 1.1211e+04,\n",
       "        1.2220e+04, 9.6550e+03, 1.0197e+04, 8.3450e+03, 5.6770e+03,\n",
       "        5.5030e+03, 3.9290e+03, 4.5280e+03, 3.7960e+03, 1.8430e+03,\n",
       "        1.9740e+03, 1.1090e+03, 1.2520e+03, 8.7700e+02, 4.9400e+02,\n",
       "        5.0200e+02, 5.3400e+02, 3.6700e+02, 4.3600e+02, 1.5300e+02,\n",
       "        2.7100e+02, 1.6500e+02, 1.2700e+02, 9.2000e+01, 7.1000e+01,\n",
       "        6.4000e+01, 2.2900e+02, 5.7000e+01, 4.9000e+01, 1.6000e+01,\n",
       "        4.3000e+01, 3.8000e+01, 6.5000e+01, 1.9000e+01, 2.7000e+01,\n",
       "        2.7000e+01, 2.4000e+01, 2.0000e+01, 3.1000e+01, 1.6000e+01,\n",
       "        1.3000e+01, 2.0000e+01, 7.0000e+00, 8.0000e+00]),\n",
       " array([-0.5       , -0.43877551, -0.37755102, -0.31632653, -0.25510204,\n",
       "        -0.19387755, -0.13265306, -0.07142857, -0.01020408,  0.05102041,\n",
       "         0.1122449 ,  0.17346939,  0.23469388,  0.29591837,  0.35714286,\n",
       "         0.41836735,  0.47959184,  0.54081633,  0.60204082,  0.66326531,\n",
       "         0.7244898 ,  0.78571429,  0.84693878,  0.90816327,  0.96938776,\n",
       "         1.03061224,  1.09183673,  1.15306122,  1.21428571,  1.2755102 ,\n",
       "         1.33673469,  1.39795918,  1.45918367,  1.52040816,  1.58163265,\n",
       "         1.64285714,  1.70408163,  1.76530612,  1.82653061,  1.8877551 ,\n",
       "         1.94897959,  2.01020408,  2.07142857,  2.13265306,  2.19387755,\n",
       "         2.25510204,  2.31632653,  2.37755102,  2.43877551,  2.5       ]),\n",
       " <a list of 49 Patch objects>)"
      ]
     },
     "execution_count": 163,
     "metadata": {},
     "output_type": "execute_result"
    },
    {
     "data": {
      "image/png": "[encoded data removed]",
      "text/plain": [
       "<matplotlib.figure.Figure at 0x7f947e999fd0>"
      ]
     },
     "metadata": {},
     "output_type": "display_data"
    }
   ],
   "source": [
    "plt.hist(df.monthly_income_scaled, bins=np.linspace(-0.5,2.5,50))"
   ]
  },
  {
   "cell_type": "markdown",
   "metadata": {},
   "source": [
    "### feature importance (again)\n",
    "Let's redo our feature importance calculations to include the engineered features we just created."
   ]
  },
  {
   "cell_type": "code",
   "execution_count": 182,
   "metadata": {},
   "outputs": [
    {
     "data": {
      "image/png": "[encoded data removed]",
      "text/plain": [
       "<matplotlib.figure.Figure at 0x7f947e781fd0>"
      ]
     },
     "metadata": {},
     "output_type": "display_data"
    }
   ],
   "source": [
    "features = np.array(['revolving_utilization_of_unsecured_lines',\n",
    "                     'age', 'number_of_time30-59_days_past_due_not_worse',\n",
    "                     'debt_ratio', 'monthly_income','number_of_open_credit_lines_and_loans', \n",
    "                     'number_of_times90_days_late', 'number_real_estate_loans_or_lines',\n",
    "                     'number_of_time60-89_days_past_due_not_worse', 'number_of_dependents',\n",
    "                     'age_bucket', 'monthly_income_scaled', 'income_bins'])#, \n",
    "\n",
    "clf = RandomForestClassifier()\n",
    "clf.fit(df[features], df['serious_dlqin2yrs'])\n",
    "\n",
    "importances = clf.feature_importances_\n",
    "sorted_idx = np.argsort(importances)\n",
    "\n",
    "padding = np.arange(len(features)) + 0.5\n",
    "plt.barh(padding, importances[sorted_idx], align='center')\n",
    "plt.yticks(padding, features[sorted_idx])\n",
    "plt.xlabel(\"Relative Importance\")\n",
    "plt.title(\"Variable Importance\")\n",
    "plt.show()"
   ]
  },
  {
   "cell_type": "code",
   "execution_count": 183,
   "metadata": {},
   "outputs": [
    {
     "data": {
      "text/html": [
       "<div>\n",
       "<style scoped>\n",
       "    .dataframe tbody tr th:only-of-type {\n",
       "        vertical-align: middle;\n",
       "    }\n",
       "\n",
       "    .dataframe tbody tr th {\n",
       "        vertical-align: top;\n",
       "    }\n",
       "\n",
       "    .dataframe thead th {\n",
       "        text-align: right;\n",
       "    }\n",
       "</style>\n",
       "<table border=\"1\" class=\"dataframe\">\n",
       "  <thead>\n",
       "    <tr style=\"text-align: right;\">\n",
       "      <th></th>\n",
       "      <th>name</th>\n",
       "    </tr>\n",
       "  </thead>\n",
       "  <tbody>\n",
       "    <tr>\n",
       "      <th>0</th>\n",
       "      <td>revolving_utilization_of_unsecured_lines</td>\n",
       "    </tr>\n",
       "    <tr>\n",
       "      <th>1</th>\n",
       "      <td>debt_ratio</td>\n",
       "    </tr>\n",
       "    <tr>\n",
       "      <th>2</th>\n",
       "      <td>monthly_income_scaled</td>\n",
       "    </tr>\n",
       "    <tr>\n",
       "      <th>3</th>\n",
       "      <td>monthly_income</td>\n",
       "    </tr>\n",
       "    <tr>\n",
       "      <th>4</th>\n",
       "      <td>age</td>\n",
       "    </tr>\n",
       "    <tr>\n",
       "      <th>5</th>\n",
       "      <td>number_of_times90_days_late</td>\n",
       "    </tr>\n",
       "    <tr>\n",
       "      <th>6</th>\n",
       "      <td>number_of_open_credit_lines_and_loans</td>\n",
       "    </tr>\n",
       "    <tr>\n",
       "      <th>7</th>\n",
       "      <td>number_of_time30-59_days_past_due_not_worse</td>\n",
       "    </tr>\n",
       "    <tr>\n",
       "      <th>8</th>\n",
       "      <td>number_of_time60-89_days_past_due_not_worse</td>\n",
       "    </tr>\n",
       "    <tr>\n",
       "      <th>9</th>\n",
       "      <td>age_bucket</td>\n",
       "    </tr>\n",
       "    <tr>\n",
       "      <th>10</th>\n",
       "      <td>number_of_dependents</td>\n",
       "    </tr>\n",
       "    <tr>\n",
       "      <th>11</th>\n",
       "      <td>number_real_estate_loans_or_lines</td>\n",
       "    </tr>\n",
       "    <tr>\n",
       "      <th>12</th>\n",
       "      <td>income_bins</td>\n",
       "    </tr>\n",
       "  </tbody>\n",
       "</table>\n",
       "</div>"
      ],
      "text/plain": [
       "                                           name\n",
       "0      revolving_utilization_of_unsecured_lines\n",
       "1                                    debt_ratio\n",
       "2                         monthly_income_scaled\n",
       "3                                monthly_income\n",
       "4                                           age\n",
       "5                   number_of_times90_days_late\n",
       "6         number_of_open_credit_lines_and_loans\n",
       "7   number_of_time30-59_days_past_due_not_worse\n",
       "8   number_of_time60-89_days_past_due_not_worse\n",
       "9                                    age_bucket\n",
       "10                         number_of_dependents\n",
       "11            number_real_estate_loans_or_lines\n",
       "12                                  income_bins"
      ]
     },
     "execution_count": 183,
     "metadata": {},
     "output_type": "execute_result"
    }
   ],
   "source": [
    "best_features = features[sorted_idx][::-1]\n",
    "pd.DataFrame({ \"name\": best_features })"
   ]
  },
  {
   "cell_type": "code",
   "execution_count": null,
   "metadata": {
    "collapsed": true
   },
   "outputs": [],
   "source": []
  }
 ],
 "metadata": {
  "kernelspec": {
   "display_name": "Python 3",
   "language": "python",
   "name": "python3"
  },
  "language_info": {
   "codemirror_mode": {
    "name": "ipython",
    "version": 3
   },
   "file_extension": ".py",
   "mimetype": "text/x-python",
   "name": "python",
   "nbconvert_exporter": "python",
   "pygments_lexer": "ipython3",
   "version": "3.4.3"
  }
 },
 "nbformat": 4,
 "nbformat_minor": 2
}
