{
 "cells": [
  {
   "cell_type": "code",
   "execution_count": 34,
   "metadata": {},
   "outputs": [
    {
     "name": "stdout",
     "output_type": "stream",
     "text": [
      "https://www.upwork.com/o/profiles/browse/fb/40/hrs/100/?page=1&q=\"phd\"&user_pref=2\n",
      "[69, 80, 55, 30, 55, 250, 135, 200, 40, 40]\n",
      "https://www.upwork.com/o/profiles/browse/fb/40/hrs/100/?page=2&q=\"phd\"&user_pref=2\n",
      "[275, 50, 35, 38, 50, 40, 40, 40, 40, 35]\n",
      "https://www.upwork.com/o/profiles/browse/fb/40/hrs/100/?page=3&q=\"phd\"&user_pref=2\n",
      "[50, 80, 35, 30, 100, 85, 100, 35, 100, 70, 100, 65]\n",
      "https://www.upwork.com/o/profiles/browse/fb/40/hrs/100/?page=4&q=\"phd\"&user_pref=2\n",
      "[56, 35, 28, 60, 55, 100, 50, 112, 50, 22]\n",
      "https://www.upwork.com/o/profiles/browse/fb/40/hrs/100/?page=5&q=\"phd\"&user_pref=2\n",
      "[50, 12, 60, 16, 75, 20, 75, 25, 52, 65]\n",
      "https://www.upwork.com/o/profiles/browse/fb/40/hrs/100/?page=6&q=\"phd\"&user_pref=2\n",
      "[35, 40, 40, 23, 69, 65, 30, 65, 12, 39, 124, 80]\n",
      "https://www.upwork.com/o/profiles/browse/fb/40/hrs/100/?page=7&q=\"phd\"&user_pref=2\n",
      "[30, 40, 50, 38, 50, 30, 125, 100, 90, 35]\n",
      "https://www.upwork.com/o/profiles/browse/fb/40/hrs/100/?page=8&q=\"phd\"&user_pref=2\n",
      "[37, 62, 40, 40, 39, 125, 75, 40, 34, 35]\n",
      "https://www.upwork.com/o/profiles/browse/fb/40/hrs/100/?page=9&q=\"phd\"&user_pref=2\n",
      "[62, 39, 37, 40, 40, 65, 36, 70, 65, 40]\n",
      "https://www.upwork.com/o/profiles/browse/fb/40/hrs/100/?page=10&q=\"phd\"&user_pref=2\n",
      "[60, 35, 40, 62, 74, 20, 22, 15, 20, 15]\n",
      "https://www.upwork.com/o/profiles/browse/fb/40/hrs/100/?page=11&q=\"phd\"&user_pref=2\n",
      "[50, 60, 20, 25, 75, 15, 70, 25, 20, 60]\n",
      "https://www.upwork.com/o/profiles/browse/fb/40/hrs/100/?page=12&q=\"phd\"&user_pref=2\n",
      "[49, 24, 20, 20, 18, 60, 40, 35, 110, 25]\n",
      "https://www.upwork.com/o/profiles/browse/fb/40/hrs/100/?page=13&q=\"phd\"&user_pref=2\n",
      "[20, 33, 25, 25, 38, 25, 40, 23, 15, 50]\n",
      "https://www.upwork.com/o/profiles/browse/fb/40/hrs/100/?page=14&q=\"phd\"&user_pref=2\n",
      "[15, 13, 20, 40, 13, 24, 10]\n",
      "https://www.upwork.com/o/profiles/browse/fb/40/hrs/100/?page=15&q=\"phd\"&user_pref=2\n",
      " Min: 10\n",
      " Max: 275\n",
      " Mean: 52\n"
     ]
    }
   ],
   "source": [
    "# Original version by: John Horton\n",
    "# New version by: tkornuta\n",
    "\n",
    "# Description: Answer to Quora question about machine learning hourly rates\n",
    "# \"http://www.quora.com/Machine-Learning/What-do-contractors-in-machine-learning-charge-by-the-hour\"\n",
    "\n",
    "from bs4 import BeautifulSoup\n",
    "import urllib.request\n",
    "import re\n",
    "\n",
    "def contractors(skill, page):\n",
    "    \"\"\"gets search results for skills; offset should be a multiple of 10\"\"\"\n",
    "    base_url = \"https://www.upwork.com/o/profiles/browse/fb/40/hrs/100/?page=%s&q=%s&user_pref=2\"\n",
    "    return  base_url % (page, skill) \n",
    "\n",
    "def get_hourrates(x):\n",
    "    \"\"\"extracts the hourly wage using regex\"\"\"\n",
    "    \n",
    "\n",
    "\n",
    "def wages(skill, pages):\n",
    "    \"\"\"gets at least n contractors (if they are available) who have that skill,\n",
    "    returning a list\"\"\"\n",
    "    wages = [] \n",
    "    for i in range(1,pages):\n",
    "        url = contractors(skill, i)\n",
    "        print(url)\n",
    "        # Set \"agent\" headers - browser, system etc.\n",
    "        headers = {}\n",
    "        headers['User-Agent'] = \"Mozilla/5.0 (X11; Ubuntu; Linux i686; rv:48.0) Gecko/20100101 Firefox/48.0\"\n",
    "        # Get html.\n",
    "        req = urllib.request.Request(url, headers = headers)\n",
    "        html = urllib.request.urlopen(req).read()\n",
    "        # Parse it with soup.\n",
    "        soup = BeautifulSoup(html, \"lxml\")\n",
    "        # Get \"content\".\n",
    "        s = str(soup.contents[1].contents[-4].contents[-2].contents[0])\n",
    "        m = re.findall('amount\":[0-9]*',s)\n",
    "        hrs = [int(hr[8:]) for hr in m]\n",
    "        # special case : empty\n",
    "        if len(hrs) == 0:\n",
    "            break\n",
    "        print(hrs)\n",
    "        wages.extend(hrs)\n",
    "    return wages \n",
    "\n",
    "\n",
    "cleaned_wages = wages('\"phd\"', 100)\n",
    "#cleaned_wages = [w for w in wages(\"machine-learning\", 100) if w > 15]\n",
    "    \n",
    "print (\" Min: {}\\n Max: {}\\n Mean: {}\".format(\n",
    "    min(cleaned_wages),\n",
    "    max(cleaned_wages),\n",
    "    round(sum(cleaned_wages)/float(len(cleaned_wages)))))\n",
    "\n",
    "    "
   ]
  },
  {
   "cell_type": "code",
   "execution_count": null,
   "metadata": {
    "collapsed": true
   },
   "outputs": [],
   "source": []
  },
  {
   "cell_type": "code",
   "execution_count": null,
   "metadata": {
    "collapsed": true
   },
   "outputs": [],
   "source": []
  }
 ],
 "metadata": {
  "kernelspec": {
   "display_name": "Python 3",
   "language": "python",
   "name": "python3"
  },
  "language_info": {
   "codemirror_mode": {
    "name": "ipython",
    "version": 3
   },
   "file_extension": ".py",
   "mimetype": "text/x-python",
   "name": "python",
   "nbconvert_exporter": "python",
   "pygments_lexer": "ipython3",
   "version": "3.4.3"
  }
 },
 "nbformat": 4,
 "nbformat_minor": 2
}
