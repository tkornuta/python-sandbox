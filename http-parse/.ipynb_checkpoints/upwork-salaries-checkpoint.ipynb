{
 "cells": [
  {
   "cell_type": "code",
   "execution_count": 27,
   "metadata": {},
   "outputs": [
    {
     "name": "stdout",
     "output_type": "stream",
     "text": [
      "https://www.upwork.com/o/profiles/browse/fb/40/hrs/100/?page=1&q=\"deep-learning\"&user_pref=2\n"
     ]
    },
    {
     "ename": "AttributeError",
     "evalue": "'str' object has no attribute 'isempty'",
     "output_type": "error",
     "traceback": [
      "\u001b[0;31m---------------------------------------------------------------------------\u001b[0m",
      "\u001b[0;31mAttributeError\u001b[0m                            Traceback (most recent call last)",
      "\u001b[0;32m<ipython-input-27-f077bf44213b>\u001b[0m in \u001b[0;36m<module>\u001b[0;34m()\u001b[0m\n\u001b[1;32m     46\u001b[0m \u001b[0;34m\u001b[0m\u001b[0m\n\u001b[1;32m     47\u001b[0m \u001b[0;34m\u001b[0m\u001b[0m\n\u001b[0;32m---> 48\u001b[0;31m \u001b[0mcleaned_wages\u001b[0m \u001b[0;34m=\u001b[0m \u001b[0mwages\u001b[0m\u001b[0;34m(\u001b[0m\u001b[0;34m'\"deep-learning\"'\u001b[0m\u001b[0;34m,\u001b[0m \u001b[0;36m100\u001b[0m\u001b[0;34m)\u001b[0m\u001b[0;34m\u001b[0m\u001b[0m\n\u001b[0m\u001b[1;32m     49\u001b[0m \u001b[0;31m#cleaned_wages = [w for w in wages(\"machine-learning\", 100) if w > 15]\u001b[0m\u001b[0;34m\u001b[0m\u001b[0;34m\u001b[0m\u001b[0m\n\u001b[1;32m     50\u001b[0m \u001b[0;34m\u001b[0m\u001b[0m\n",
      "\u001b[0;32m<ipython-input-27-f077bf44213b>\u001b[0m in \u001b[0;36mwages\u001b[0;34m(skill, pages)\u001b[0m\n\u001b[1;32m     37\u001b[0m         \u001b[0ms\u001b[0m \u001b[0;34m=\u001b[0m \u001b[0mstr\u001b[0m\u001b[0;34m(\u001b[0m\u001b[0msoup\u001b[0m\u001b[0;34m.\u001b[0m\u001b[0mcontents\u001b[0m\u001b[0;34m[\u001b[0m\u001b[0;36m1\u001b[0m\u001b[0;34m]\u001b[0m\u001b[0;34m.\u001b[0m\u001b[0mcontents\u001b[0m\u001b[0;34m[\u001b[0m\u001b[0;34m-\u001b[0m\u001b[0;36m4\u001b[0m\u001b[0;34m]\u001b[0m\u001b[0;34m.\u001b[0m\u001b[0mcontents\u001b[0m\u001b[0;34m[\u001b[0m\u001b[0;34m-\u001b[0m\u001b[0;36m2\u001b[0m\u001b[0;34m]\u001b[0m\u001b[0;34m.\u001b[0m\u001b[0mcontents\u001b[0m\u001b[0;34m[\u001b[0m\u001b[0;36m0\u001b[0m\u001b[0;34m]\u001b[0m\u001b[0;34m)\u001b[0m\u001b[0;34m\u001b[0m\u001b[0m\n\u001b[1;32m     38\u001b[0m         \u001b[0;31m# special case : empty\u001b[0m\u001b[0;34m\u001b[0m\u001b[0;34m\u001b[0m\u001b[0m\n\u001b[0;32m---> 39\u001b[0;31m         \u001b[0;32mif\u001b[0m \u001b[0;34m(\u001b[0m\u001b[0ms\u001b[0m\u001b[0;34m.\u001b[0m\u001b[0misempty\u001b[0m\u001b[0;34m(\u001b[0m\u001b[0;34m)\u001b[0m\u001b[0;34m)\u001b[0m\u001b[0;34m:\u001b[0m\u001b[0;34m\u001b[0m\u001b[0m\n\u001b[0m\u001b[1;32m     40\u001b[0m             \u001b[0;32mbreak\u001b[0m\u001b[0;34m\u001b[0m\u001b[0m\n\u001b[1;32m     41\u001b[0m         \u001b[0mm\u001b[0m \u001b[0;34m=\u001b[0m \u001b[0mre\u001b[0m\u001b[0;34m.\u001b[0m\u001b[0mfindall\u001b[0m\u001b[0;34m(\u001b[0m\u001b[0;34m'amount\":[0-9]*'\u001b[0m\u001b[0;34m,\u001b[0m\u001b[0ms\u001b[0m\u001b[0;34m)\u001b[0m\u001b[0;34m\u001b[0m\u001b[0m\n",
      "\u001b[0;31mAttributeError\u001b[0m: 'str' object has no attribute 'isempty'"
     ]
    }
   ],
   "source": [
    "# Original version by: John Horton\n",
    "# New version by: tkornuta\n",
    "\n",
    "# Description: Answer to Quora question about machine learning hourly rates\n",
    "# \"http://www.quora.com/Machine-Learning/What-do-contractors-in-machine-learning-charge-by-the-hour\"\n",
    "\n",
    "from bs4 import BeautifulSoup\n",
    "import urllib.request\n",
    "import re\n",
    "\n",
    "def contractors(skill, page):\n",
    "    \"\"\"gets search results for skills; offset should be a multiple of 10\"\"\"\n",
    "    base_url = \"https://www.upwork.com/o/profiles/browse/fb/40/hrs/100/?page=%s&q=%s&user_pref=2\"\n",
    "    return  base_url % (page, skill) \n",
    "\n",
    "def get_hourrates(x):\n",
    "    \"\"\"extracts the hourly wage using regex\"\"\"\n",
    "    \n",
    "\n",
    "\n",
    "def wages(skill, pages):\n",
    "    \"\"\"gets at least n contractors (if they are available) who have that skill,\n",
    "    returning a list\"\"\"\n",
    "    wages = [] \n",
    "    for i in range(1,pages):\n",
    "        url = contractors(skill, i)\n",
    "        print(url)\n",
    "        # Set \"agent\" headers - browser, system etc.\n",
    "        headers = {}\n",
    "        headers['User-Agent'] = \"Mozilla/5.0 (X11; Ubuntu; Linux i686; rv:48.0) Gecko/20100101 Firefox/48.0\"\n",
    "        # Get html.\n",
    "        req = urllib.request.Request(url, headers = headers)\n",
    "        html = urllib.request.urlopen(req).read()\n",
    "        # Parse it with soup.\n",
    "        soup = BeautifulSoup(html, \"lxml\")\n",
    "        # Get \"content\".\n",
    "        s = str(soup.contents[1].contents[-4].contents[-2].contents[0])\n",
    "        m = re.findall('amount\":[0-9]*',s)\n",
    "        hrs = [int(hr[8:]) for hr in m]\n",
    "        # special case : empty\n",
    "        if len(hrs) == 0:\n",
    "            break\n",
    "        print(hrs)\n",
    "        wages.extend(hrs)\n",
    "    return wages \n",
    "\n",
    "\n",
    "cleaned_wages = wages('\"deep-learning\"', 100)\n",
    "#cleaned_wages = [w for w in wages(\"machine-learning\", 100) if w > 15]\n",
    "    \n",
    "print (\" Min: {}\\n Max: {}\\n Mean: {}\".format(\n",
    "    min(cleaned_wages),\n",
    "    max(cleaned_wages),\n",
    "    round(sum(cleaned_wages)/float(len(cleaned_wages)))))\n",
    "\n",
    "    "
   ]
  },
  {
   "cell_type": "code",
   "execution_count": null,
   "metadata": {
    "collapsed": true
   },
   "outputs": [],
   "source": []
  },
  {
   "cell_type": "code",
   "execution_count": null,
   "metadata": {
    "collapsed": true
   },
   "outputs": [],
   "source": []
  }
 ],
 "metadata": {
  "kernelspec": {
   "display_name": "Python 3",
   "language": "python",
   "name": "python3"
  },
  "language_info": {
   "codemirror_mode": {
    "name": "ipython",
    "version": 3
   },
   "file_extension": ".py",
   "mimetype": "text/x-python",
   "name": "python",
   "nbconvert_exporter": "python",
   "pygments_lexer": "ipython3",
   "version": "3.4.3"
  }
 },
 "nbformat": 4,
 "nbformat_minor": 2
}
